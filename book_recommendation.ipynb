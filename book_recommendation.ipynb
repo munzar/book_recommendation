{
 "cells": [
  {
   "cell_type": "code",
   "execution_count": 9,
   "metadata": {},
   "outputs": [],
   "source": [
    "import pandas as pd"
   ]
  },
  {
   "cell_type": "code",
   "execution_count": 10,
   "metadata": {},
   "outputs": [],
   "source": [
    "data_users = \"data/BX-Users_upr.csv\"\n",
    "data_books = \"data/BX-Books_upr.csv\"\n",
    "data_ratings = \"data/BX-Book-Ratings_upr.csv\""
   ]
  },
  {
   "cell_type": "code",
   "execution_count": 11,
   "metadata": {},
   "outputs": [],
   "source": [
    "class Data:\n",
    "    \"\"\"\n",
    "    Load database about users, books and book's ratings.\n",
    "    Data are supposed in format:\n",
    "    users: User-ID; Location; Age\n",
    "    books: ISBN; Book-Title; Book-Author; Year-Of-Publication; Publisher; Image-URL-S; Image-URL-M-IMAGE-URL-L\n",
    "    ratings: User-ID; ISBN; Book-Rating\n",
    "    \"\"\"\n",
    "    def __init__(self, users, books, ratings):\n",
    "        #self.users = pd.read_csv(users, sep=\";\", engine=\"python\")\n",
    "        self.books = pd.read_csv(books, sep=\";\", engine=\"python\")\n",
    "        self.ratings = pd.read_csv(ratings, sep=\";\", engine=\"python\")\n",
    "        \n",
    "    def get_isbn(self, book_name, book_author = None):\n",
    "        isbn = self.books[self.books[\"Book-Title\"].str.contains(book_name)][[\"ISBN\", \"Book-Title\", \"Book-Author\"]]\n",
    "        if book_author:\n",
    "            isbn = isbn[isbn[\"Book-Author\"].str.contains(book_author)]\n",
    "        return [isbn[\"ISBN\"].iloc[i] for i in range(len(isbn))]\n",
    "        \n",
    "    def get_users_who_like(self, isbn, rating = 7):\n",
    "        users_who_like = self.ratings[self.ratings[\"ISBN\"] == isbn]\n",
    "        users_who_like = users_who_like[users_who_like[\"Book-Rating\"] >= rating]\n",
    "        return [users_who_like[\"User-ID\"].iloc[i] for i in range(len(users_who_like))]\n",
    "    \n",
    "    def find_rated_books(self, users_who_like, my_book):\n",
    "        rated_books = self.ratings[self.ratings[\"User-ID\"] == users_who_like[0]]            \n",
    "        for i in range(1, len(users_who_like)):\n",
    "            rated_books2 = self.ratings[self.ratings[\"User-ID\"] == users_who_like[i]]\n",
    "            rated_books = pd.concat([rated_books, rated_books2])\n",
    "        # TODO rozdelit\n",
    "        for j in range(len(my_book)):    \n",
    "            for i in range(len(rated_books[rated_books[\"ISBN\"] == my_book[j]])):\n",
    "                c = rated_books[rated_books[\"ISBN\"] == my_book[j]].index[0]\n",
    "                rated_books = rated_books.drop(index=c)\n",
    "        return rated_books\n",
    "    \n",
    "    def get_books_rating(self, rated_books):\n",
    "        books_rating = []\n",
    "        while len(rated_books):\n",
    "            book = rated_books[rated_books[\"ISBN\"] == rated_books[\"ISBN\"].iloc[0]]\n",
    "            books_rating.append([book[\"ISBN\"].iloc[0], sum(book[\"Book-Rating\"]), len(book)])\n",
    "            for i in range(len(book)):       \n",
    "                rated_books = rated_books.drop(index=book.index[i])\n",
    "        return books_rating\n",
    "    \n",
    "    def get_recommended_book(self, books_rating):\n",
    "        max_rating = 0\n",
    "        for i in range(len(books_rating)):\n",
    "            if(books_rating[i][1] > max_rating):\n",
    "                max_rating = books_rating[i][1]\n",
    "                the_book = books_rating[i]\n",
    "        return the_book    \n",
    "    \n",
    "    def get_book_by_isbn(self, isbn):\n",
    "        return self.books[self.books[\"ISBN\"] == isbn]"
   ]
  },
  {
   "cell_type": "code",
   "execution_count": 12,
   "metadata": {},
   "outputs": [],
   "source": [
    "class Book:\n",
    "    def __init__(self, isbn, title, author, year_public = None, publisher = None):\n",
    "        self.isbn = isbn\n",
    "        self.title = title\n",
    "        self.author = author\n",
    "        self.year_public = year_public\n",
    "        self.publisher = publisher\n",
    "        self.ratings = 0\n",
    "        self.rating_users = 0"
   ]
  },
  {
   "cell_type": "code",
   "execution_count": 13,
   "metadata": {},
   "outputs": [],
   "source": [
    "data = Data(data_users, data_books, data_ratings)\n",
    "favourite_book_name = \"Lord of the Rings\"\n",
    "favourite_book_author = \"Tolkien\""
   ]
  },
  {
   "cell_type": "code",
   "execution_count": 14,
   "metadata": {},
   "outputs": [],
   "source": [
    "isbn = data.get_isbn(favourite_book_name, favourite_book_author)"
   ]
  },
  {
   "cell_type": "code",
   "execution_count": 15,
   "metadata": {},
   "outputs": [],
   "source": [
    "my_book = Book(isbn[0], favourite_book_name, favourite_book_author)\n",
    "users_who_like = data.get_users_who_like(isbn[0])\n",
    "rated_books = data.find_rated_books(users_who_like, isbn)\n",
    "books_rating = data.get_books_rating(rated_books)\n",
    "recommended_book = data.get_recommended_book(books_rating)"
   ]
  },
  {
   "cell_type": "code",
   "execution_count": 16,
   "metadata": {},
   "outputs": [
    {
     "data": {
      "text/html": [
       "<div>\n",
       "<style scoped>\n",
       "    .dataframe tbody tr th:only-of-type {\n",
       "        vertical-align: middle;\n",
       "    }\n",
       "\n",
       "    .dataframe tbody tr th {\n",
       "        vertical-align: top;\n",
       "    }\n",
       "\n",
       "    .dataframe thead th {\n",
       "        text-align: right;\n",
       "    }\n",
       "</style>\n",
       "<table border=\"1\" class=\"dataframe\">\n",
       "  <thead>\n",
       "    <tr style=\"text-align: right;\">\n",
       "      <th></th>\n",
       "      <th>ISBN</th>\n",
       "      <th>Book-Title</th>\n",
       "      <th>Book-Author</th>\n",
       "      <th>Year-Of-Publication</th>\n",
       "      <th>Publisher</th>\n",
       "      <th>Image-URL-S</th>\n",
       "      <th>Image-URL-M</th>\n",
       "      <th>Image-URL-L</th>\n",
       "    </tr>\n",
       "  </thead>\n",
       "  <tbody>\n",
       "    <tr>\n",
       "      <th>27557</th>\n",
       "      <td>8445071416</td>\n",
       "      <td>El Hobbit</td>\n",
       "      <td>J. R. R. Tolkien</td>\n",
       "      <td>1991</td>\n",
       "      <td>Minotauro</td>\n",
       "      <td>http://images.amazon.com/images/P/8445071416.0...</td>\n",
       "      <td>http://images.amazon.com/images/P/8445071416.0...</td>\n",
       "      <td>http://images.amazon.com/images/P/8445071416.0...</td>\n",
       "    </tr>\n",
       "  </tbody>\n",
       "</table>\n",
       "</div>"
      ],
      "text/plain": [
       "             ISBN Book-Title       Book-Author  Year-Of-Publication  \\\n",
       "27557  8445071416  El Hobbit  J. R. R. Tolkien                 1991   \n",
       "\n",
       "       Publisher                                        Image-URL-S  \\\n",
       "27557  Minotauro  http://images.amazon.com/images/P/8445071416.0...   \n",
       "\n",
       "                                             Image-URL-M  \\\n",
       "27557  http://images.amazon.com/images/P/8445071416.0...   \n",
       "\n",
       "                                             Image-URL-L  \n",
       "27557  http://images.amazon.com/images/P/8445071416.0...  "
      ]
     },
     "execution_count": 16,
     "metadata": {},
     "output_type": "execute_result"
    }
   ],
   "source": [
    "data.get_book_by_isbn(recommended_book[0])"
   ]
  },
  {
   "cell_type": "code",
   "execution_count": null,
   "metadata": {},
   "outputs": [],
   "source": []
  },
  {
   "cell_type": "code",
   "execution_count": null,
   "metadata": {},
   "outputs": [],
   "source": []
  },
  {
   "cell_type": "code",
   "execution_count": null,
   "metadata": {},
   "outputs": [],
   "source": []
  }
 ],
 "metadata": {
  "kernelspec": {
   "display_name": "Python 3",
   "language": "python",
   "name": "python3"
  },
  "language_info": {
   "codemirror_mode": {
    "name": "ipython",
    "version": 3
   },
   "file_extension": ".py",
   "mimetype": "text/x-python",
   "name": "python",
   "nbconvert_exporter": "python",
   "pygments_lexer": "ipython3",
   "version": "3.8.5"
  }
 },
 "nbformat": 4,
 "nbformat_minor": 4
}
